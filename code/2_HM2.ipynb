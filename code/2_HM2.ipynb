{
 "cells": [
  {
   "cell_type": "code",
   "execution_count": 2,
   "id": "3a43fbec",
   "metadata": {},
   "outputs": [],
   "source": [
    "import numpy as np"
   ]
  },
  {
   "cell_type": "code",
   "execution_count": 41,
   "id": "ca72750d",
   "metadata": {},
   "outputs": [],
   "source": [
    "# Create matrix A and vector B_1\n",
    "\n",
    "A = np.array([[3,2,2], [1,6,-1], [4,1,5]])\n",
    "b = np.array([-1,3,-6])"
   ]
  },
  {
   "cell_type": "code",
   "execution_count": 42,
   "id": "37e2ee94",
   "metadata": {},
   "outputs": [
    {
     "data": {
      "text/plain": [
       "array([ 1., -0., -2.])"
      ]
     },
     "execution_count": 42,
     "metadata": {},
     "output_type": "execute_result"
    }
   ],
   "source": [
    "# Solve linear system of the form Ax = b\n",
    "# round result to 5 digits, output result\n",
    "\n",
    "x = np.round(np.linalg.solve(A,b), 5)\n",
    "x"
   ]
  },
  {
   "cell_type": "code",
   "execution_count": 43,
   "id": "df90c3ee",
   "metadata": {},
   "outputs": [
    {
     "data": {
      "text/plain": [
       "array([-1.,  3., -6.])"
      ]
     },
     "execution_count": 43,
     "metadata": {},
     "output_type": "execute_result"
    }
   ],
   "source": [
    "# optional, check if A * x really outputs vector b\n",
    "\n",
    "np.dot(A,x)"
   ]
  },
  {
   "cell_type": "code",
   "execution_count": 44,
   "id": "9021a587",
   "metadata": {},
   "outputs": [],
   "source": [
    "# Create matrix B and vector\n",
    "\n",
    "B = np.array([[1,3,2], [2,-2, 5], [-3, 3, -2]])\n",
    "c = np.array([0,0,0]) # same as np.zeros(3)"
   ]
  },
  {
   "cell_type": "code",
   "execution_count": 45,
   "id": "b83c5d1e",
   "metadata": {},
   "outputs": [
    {
     "data": {
      "text/plain": [
       "array([-0.,  0.,  0.])"
      ]
     },
     "execution_count": 45,
     "metadata": {},
     "output_type": "execute_result"
    }
   ],
   "source": [
    "# Solve linear system of the form By = c\n",
    "# round result to 5 digits, output result\n",
    "\n",
    "y = np.linalg.solve(B,c)\n",
    "y"
   ]
  },
  {
   "cell_type": "code",
   "execution_count": 46,
   "id": "2de87bff",
   "metadata": {},
   "outputs": [
    {
     "data": {
      "text/plain": [
       "array([0., 0., 0.])"
      ]
     },
     "execution_count": 46,
     "metadata": {},
     "output_type": "execute_result"
    }
   ],
   "source": [
    "np.dot(B, y) # B * y"
   ]
  },
  {
   "cell_type": "code",
   "execution_count": 47,
   "id": "fd934742",
   "metadata": {},
   "outputs": [
    {
     "data": {
      "text/plain": [
       "(array([1., 2.]),\n",
       " array([[ 1.        , -0.70710678],\n",
       "        [ 0.        ,  0.70710678]]))"
      ]
     },
     "execution_count": 47,
     "metadata": {},
     "output_type": "execute_result"
    }
   ],
   "source": [
    "# how to compute eigenvalues of with numpy\n",
    "\n",
    "M = np.array([[1,-1], [0, 2]])\n",
    "np.linalg.eig(M)"
   ]
  },
  {
   "cell_type": "code",
   "execution_count": 48,
   "id": "f1c2ce12",
   "metadata": {},
   "outputs": [
    {
     "name": "stdout",
     "output_type": "stream",
     "text": [
      "1.0 * λ^2 + -3.0 * λ^1 + 2.0 * λ^0\n"
     ]
    }
   ],
   "source": [
    "# output the characteristic polynomial using numpy\n",
    "\n",
    "polynom = np.poly(M)\n",
    "print(\" + \".join([f\"{polynom[i]} * \\u03BB^{len(M)-i}\" for i in range(len(M)+1)]))"
   ]
  }
 ],
 "metadata": {
  "kernelspec": {
   "display_name": "Python 3 (ipykernel)",
   "language": "python",
   "name": "python3"
  },
  "language_info": {
   "codemirror_mode": {
    "name": "ipython",
    "version": 3
   },
   "file_extension": ".py",
   "mimetype": "text/x-python",
   "name": "python",
   "nbconvert_exporter": "python",
   "pygments_lexer": "ipython3",
   "version": "3.10.6"
  }
 },
 "nbformat": 4,
 "nbformat_minor": 5
}
